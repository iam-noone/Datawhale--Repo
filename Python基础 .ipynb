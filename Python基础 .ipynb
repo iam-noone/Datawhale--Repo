{
 "cells": [
  {
   "cell_type": "markdown",
   "metadata": {},
   "source": [
    "# Datawhale--Python基础\n",
    "\n",
    "## Task1（2day）\n",
    "1.环境搭建<br>\n",
    "- 1)Anaconda环境配置<br>\n",
    "- 2)解释器<br>\n",
    "\n",
    "2.python初体验<br>\n",
    "- 1)print and input<br>\n",
    "\n",
    "3.python 基础讲解<br>\n",
    "- 1)python变量特征+命名规则<br>\n",
    "- 2)注释方法<br>\n",
    "- 3)python中“：”的作用<br>\n",
    "- 4)学会使用dir()及help()<br>\n",
    "- 5)import使用<br>\n",
    "- 6)pep8 介绍<br>\n",
    "\n",
    "4.pyhon 数值基本知识<br>\n",
    "- 1)python 中数值类型，int float bool e记法等<br>\n",
    "- 2)算数运算符<br>\n",
    "- 3)逻辑运算符<br>\n",
    "- 4)成员运算符<br>\n",
    "- 5)身份运算符<br>\n",
    "- 6)运算符优先级<br>\n"
   ]
  },
  {
   "cell_type": "markdown",
   "metadata": {},
   "source": [
    "### 1 自己找资料\n",
    "### 2 print和input"
   ]
  },
  {
   "cell_type": "code",
   "execution_count": 1,
   "metadata": {},
   "outputs": [
    {
     "name": "stdout",
     "output_type": "stream",
     "text": [
      "4 20 8\n",
      "我是print\n",
      "数字1\n"
     ]
    }
   ],
   "source": [
    "print(2 + 2, 50 - 5*6, 2**3)\n",
    "print(\"我是print\")\n",
    "print(\"数字\" + str(1))"
   ]
  },
  {
   "cell_type": "code",
   "execution_count": 2,
   "metadata": {},
   "outputs": [
    {
     "name": "stdin",
     "output_type": "stream",
     "text": [
      "please input num 12345678\n"
     ]
    },
    {
     "name": "stdout",
     "output_type": "stream",
     "text": [
      "1234567.8\n"
     ]
    },
    {
     "name": "stdin",
     "output_type": "stream",
     "text": [
      "please input string hello python\n"
     ]
    },
    {
     "name": "stdout",
     "output_type": "stream",
     "text": [
      "you input ' hello python '\n"
     ]
    }
   ],
   "source": [
    "var1 = input(\"please input num\")\n",
    "print(int(var1) / 10)\n",
    "\n",
    "var2 = input(\"please input string\")\n",
    "print(\"you input '\", var2, \"'\")"
   ]
  },
  {
   "cell_type": "markdown",
   "metadata": {},
   "source": [
    "### 3 基础"
   ]
  },
  {
   "cell_type": "code",
   "execution_count": 3,
   "metadata": {},
   "outputs": [
    {
     "data": {
      "text/plain": [
       "(1, 1.1, 1e+100, True, None)"
      ]
     },
     "execution_count": 3,
     "metadata": {},
     "output_type": "execute_result"
    }
   ],
   "source": [
    "a = 1\n",
    "b = 1.1\n",
    "c = 1e100\n",
    "d = True\n",
    "e = None   # 特殊的空值， 这是注释\n",
    "\n",
    "a, b, c, d, e"
   ]
  },
  {
   "cell_type": "markdown",
   "metadata": {},
   "source": [
    "help(obj) 查看如何使用obj\n",
    "dir() 函数不带参数：返回当前范围的所有变量、方法等<br>\n",
    "dir() 函数带参数，返回该对象的属性、方法等<br>\n",
    "某一对象使用obj.__ dir __ () , 也可调用该对象的对象、方法<br>"
   ]
  },
  {
   "cell_type": "code",
   "execution_count": 4,
   "metadata": {},
   "outputs": [
    {
     "name": "stdout",
     "output_type": "stream",
     "text": [
      "Help on built-in function print in module builtins:\n",
      "\n",
      "print(...)\n",
      "    print(value, ..., sep=' ', end='\\n', file=sys.stdout, flush=False)\n",
      "    \n",
      "    Prints the values to a stream, or to sys.stdout by default.\n",
      "    Optional keyword arguments:\n",
      "    file:  a file-like object (stream); defaults to the current sys.stdout.\n",
      "    sep:   string inserted between values, default a space.\n",
      "    end:   string appended after the last value, default a newline.\n",
      "    flush: whether to forcibly flush the stream.\n",
      "\n"
     ]
    }
   ],
   "source": [
    "help(print)"
   ]
  },
  {
   "cell_type": "code",
   "execution_count": null,
   "metadata": {},
   "outputs": [],
   "source": [
    "dir(), dir(help), help.__dir__"
   ]
  },
  {
   "cell_type": "markdown",
   "metadata": {},
   "source": [
    "import 可以导入某个模块，多种导入方法"
   ]
  },
  {
   "cell_type": "code",
   "execution_count": 6,
   "metadata": {},
   "outputs": [],
   "source": [
    "import numpy\n",
    "import numpy as np\n",
    "from numpy import array\n",
    "from numpy import array as arr"
   ]
  },
  {
   "cell_type": "markdown",
   "metadata": {},
   "source": [
    "### 4 python运算符\n",
    "算数运算符中的 * 可以表示<br>\n",
    " 1. 两个数相乘\n",
    " 2. 被重复若干次的字符串"
   ]
  },
  {
   "cell_type": "code",
   "execution_count": 7,
   "metadata": {},
   "outputs": [
    {
     "data": {
      "text/plain": [
       "('abc', 'abcabcabc')"
      ]
     },
     "execution_count": 7,
     "metadata": {},
     "output_type": "execute_result"
    }
   ],
   "source": [
    "s = \"abc\"\n",
    "ss = 3 * s\n",
    "s, ss"
   ]
  },
  {
   "cell_type": "markdown",
   "metadata": {},
   "source": [
    "成员运算符<br>\n",
    "A in, not in B：若A在、不在B中，则返回True、False"
   ]
  },
  {
   "cell_type": "code",
   "execution_count": 8,
   "metadata": {},
   "outputs": [
    {
     "data": {
      "text/plain": [
       "(True, False)"
      ]
     },
     "execution_count": 8,
     "metadata": {},
     "output_type": "execute_result"
    }
   ],
   "source": [
    "A = 1\n",
    "B = [1, 2, 3]\n",
    "\n",
    "flag1 = A in B\n",
    "flag2 = A not in B\n",
    "\n",
    "flag1, flag2"
   ]
  },
  {
   "cell_type": "markdown",
   "metadata": {},
   "source": [
    "其余的运算符跟大多数语言类似"
   ]
  },
  {
   "cell_type": "code",
   "execution_count": null,
   "metadata": {},
   "outputs": [],
   "source": []
  }
 ],
 "metadata": {
  "kernelspec": {
   "display_name": "Python 3",
   "language": "python",
   "name": "python3"
  },
  "language_info": {
   "codemirror_mode": {
    "name": "ipython",
    "version": 3
   },
   "file_extension": ".py",
   "mimetype": "text/x-python",
   "name": "python",
   "nbconvert_exporter": "python",
   "pygments_lexer": "ipython3",
   "version": "3.7.1"
  }
 },
 "nbformat": 4,
 "nbformat_minor": 2
}
